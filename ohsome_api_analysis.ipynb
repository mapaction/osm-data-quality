{
 "cells": [
  {
   "cell_type": "markdown",
   "metadata": {},
   "source": [
    "# Ohsome API analysis Notebook"
   ]
  },
  {
   "cell_type": "markdown",
   "metadata": {},
   "source": [
    "This notebook has been developped to test the interaction with the Ohsome API. It serves as a sandbox before implementing indicators and layers to the OQT project.  \n",
    "\n",
    "It contains a simple query to retrieve aggregated results for a given layer and country.\n",
    "\n",
    "We also added some steps to retrieve layers geometries and to compute global thresholds for some indicators based on percentile of global distribution.\n",
    "\n",
    "\n",
    "- link to OQT project GIT repo : https://github.com/GIScience/ohsome-quality-analyst\n",
    "- link to Ohsome API doc : https://docs.ohsome.org/ohsome-api/stable/endpoints.html\n"
   ]
  },
  {
   "cell_type": "markdown",
   "metadata": {},
   "source": [
    "## 1) Import Packages"
   ]
  },
  {
   "cell_type": "code",
   "execution_count": 1,
   "metadata": {},
   "outputs": [],
   "source": [
    "from math import *\n",
    "import numpy as np\n",
    "import seaborn as sns\n",
    "import requests\n",
    "import time\n",
    "\n",
    "import json\n",
    "import pandas as pd\n",
    "import geopandas as gpd\n",
    "from geojson import Feature, FeatureCollection, Point\n",
    "\n"
   ]
  },
  {
   "cell_type": "markdown",
   "metadata": {},
   "source": [
    "## 2) Setup"
   ]
  },
  {
   "cell_type": "markdown",
   "metadata": {},
   "source": [
    "- Aggregation funcitons used here are simply the endpoins of the API\n",
    "- Filters correspond to the 6 layers defined on the Map Action Report for OQT\n",
    "- Function query_api() is used to simplify access to the API for a given layer, aggregation and country. It uses geopandas naturalearth_lowres dataset for country borders"
   ]
  },
  {
   "cell_type": "code",
   "execution_count": 2,
   "metadata": {},
   "outputs": [],
   "source": [
    "\n",
    "\n",
    "agg_count = 'https://api.ohsome.org/v1/elements/count'\n",
    "agg_length = 'https://api.ohsome.org/v1/elements/length'\n",
    "agg_area = 'https://api.ohsome.org/v1/elements/area'\n",
    "\n",
    "agg_count_density = 'https://api.ohsome.org/v1/elements/count/density'\n",
    "agg_count_ratio = 'https://api.ohsome.org/v1/elements/count/ratio'\n",
    "agg_geometry = 'https://api.ohsome.org/v1/elements/geometry'\n",
    "\n",
    "#---------------------------------\n",
    "\n",
    "filter_capital_city = \"place=city and (is_capital=country or admin_level=2 or capital=yes) and type:node\"\n",
    "filter_settlements = \"place=city and type:node\"\n",
    "filter_major_roads = \"highway in (motorway, trunk, primary) and (type:way or type:relation)\"\n",
    "filter_rail = \"railway=rail and (type:way or type:relation)\"\n",
    "filter_lakes = \"(water in (lagoon,lake,reservoir) or landuse = reservoir) and (type:way or type:relation)\"\n",
    "filter_rivers = \"waterway in (riverbank,river) and (type:way or type:relation)\"\n",
    "\n",
    "\n",
    "#---------------------------------"
   ]
  },
  {
   "cell_type": "code",
   "execution_count": 3,
   "metadata": {},
   "outputs": [],
   "source": [
    "def query_api(URL,query_filter,country_code,query_time = \"2021-01-01\"):\n",
    "    \n",
    "    #some countries have an invalide (-99) country_code. We could improve this function by replacing the \n",
    "    #country code by the country name\n",
    "    if country_code == '-99':\n",
    "        return(-1)\n",
    "    \n",
    "    #retrieve country boundaries and create a GeoJSON file from it\n",
    "    world_gdf = gpd.read_file(gpd.datasets.get_path('naturalearth_lowres'))\n",
    "    country_gdf = world_gdf[world_gdf.iso_a3 == country_code]\n",
    "    geojson_file =  json.loads(country_gdf.to_json())\n",
    "\n",
    "    #obtain a polygon from the GeoJSON file. In theory the API bpolys accepts GeoJSON files as input\n",
    "    #but I could not make it work.\n",
    "    if geojson_file['features'][0]['geometry']['type'] == 'MultiPolygon':\n",
    "        country_poly = ''\n",
    "        for new_poly in geojson_file['features'][0]['geometry']['coordinates']:\n",
    "            country_poly = country_poly + '|' + str(new_poly[0])\n",
    "        country_poly = country_poly.replace('[','').replace(']','') \n",
    "        country_poly = country_poly[1:]\n",
    "    else:\n",
    "        country_poly = str(geojson_file['features'][0]['geometry']['coordinates']).replace('[','').replace(']','')\n",
    "    \n",
    "    #small difference between aggregation functions and geometries, the latter doesn't have a \"format\" variable.\n",
    "    if URL == 'https://api.ohsome.org/v1/elements/geometry':    \n",
    "        data = {\"bpolys\": country_poly, \"time\": query_time, \"filter\": query_filter}\n",
    "    else:   \n",
    "        data = {\"bpolys\": country_poly, \"format\": \"json\", \"time\": query_time, \"filter\": query_filter}\n",
    "           \n",
    "    response = requests.post(URL, data=data)\n",
    "    \n",
    "    #handles void results and return result depending on url type\n",
    "    if str(response) == '<Response [404]>':\n",
    "        return(-1)\n",
    "    elif URL == 'https://api.ohsome.org/v1/elements/geometry':\n",
    "        return(response.json())\n",
    "    else:     \n",
    "        return(response.json()['result'][0]['value'])"
   ]
  },
  {
   "cell_type": "markdown",
   "metadata": {},
   "source": [
    "## 3) Execute query"
   ]
  },
  {
   "cell_type": "markdown",
   "metadata": {},
   "source": [
    "Single query for a given aggregation (URL), layer (filter) and country. Query time can also be changed. Default value is set to 01/01/2021 but we can have more recent or older data.\n",
    "\n",
    "5 countries on the present scope : \n",
    "\n",
    "- Bangladesh (BGD)\n",
    "- South Sudan (SSD)\n",
    "- Myanmar (MMR)\n",
    "- Dominican Republic (DOM)\n",
    "- Haiti (HTI)\n",
    "\n",
    "\n",
    "\n",
    "\n",
    "\n"
   ]
  },
  {
   "cell_type": "code",
   "execution_count": 4,
   "metadata": {},
   "outputs": [
    {
     "data": {
      "text/plain": [
       "260887.71"
      ]
     },
     "execution_count": 4,
     "metadata": {},
     "output_type": "execute_result"
    }
   ],
   "source": [
    "query_api(URL = agg_length,query_filter = filter_rail,country_code = 'SSD')"
   ]
  },
  {
   "cell_type": "markdown",
   "metadata": {},
   "source": [
    "## 4) Export geometry"
   ]
  },
  {
   "cell_type": "markdown",
   "metadata": {},
   "source": [
    "Use this small code to retrieve geometries for all the layers and all the five countries. This query can take some time depending on the number of countries and the size of the layers. GeoJSON files are stored locally."
   ]
  },
  {
   "cell_type": "code",
   "execution_count": null,
   "metadata": {},
   "outputs": [],
   "source": [
    "\n",
    "layer_dict = {}\n",
    "layer_dict['settlements'] = filter_settlements\n",
    "layer_dict['major_roads'] = filter_major_roads\n",
    "layer_dict['rail'] = filter_rail\n",
    "layer_dict['lakes'] = filter_lakes\n",
    "layer_dict['rivers'] = filter_rivers\n",
    "\n",
    "folder_name = './osm_output/'\n",
    "\n",
    "\n",
    "for country_code in ('BGD','SSD','MMR','DOM','HTI'):\n",
    "\n",
    "    for layer in ('settlements','major_roads','rail','lakes','rivers'):\n",
    "        print(layer)\n",
    "        query_filter = layer_dict[layer]\n",
    "        output_geo = query_api(URL = agg_geometry,query_filter = query_filter,country_code = country_code)\n",
    "\n",
    "        filename =  folder_name + country_code.lower() + '_' + layer + '.geojson'\n",
    "\n",
    "        with open(filename, 'w', encoding='utf-8') as f:\n",
    "            json.dump(output_geo, f, ensure_ascii=False)\n",
    "            \n",
    "        print(filename)"
   ]
  },
  {
   "cell_type": "markdown",
   "metadata": {},
   "source": [
    "## 5) Threshold Computation"
   ]
  },
  {
   "cell_type": "markdown",
   "metadata": {},
   "source": [
    "We compute here statistics for two layers (major roads and settlements) for all the countries available. We then use density percentiles as thresholds for indicators quality.\n",
    "\n",
    "For example, if a country settlements density (unit per million habitants) or road density (km per million habitants) lies below the 5% world-wide percentile we say it has a low quality for this indicator. Between 5% and 20% is medium and over 20% is high.\n",
    "\n",
    "This is a very simple approch that should be improved in the future"
   ]
  },
  {
   "cell_type": "markdown",
   "metadata": {},
   "source": [
    "### 5.1) Load data"
   ]
  },
  {
   "cell_type": "code",
   "execution_count": null,
   "metadata": {},
   "outputs": [],
   "source": [
    "world_gdf = gpd.read_file(gpd.datasets.get_path('naturalearth_lowres'))\n",
    "new_df = world_gdf.copy()\n",
    "# computing the area without taking projection in account is not very smart but should be enough for\n",
    "#a preliminary correlation analysis.\n",
    "new_df['country_area'] = new_df.geometry.area"
   ]
  },
  {
   "cell_type": "code",
   "execution_count": null,
   "metadata": {},
   "outputs": [],
   "source": [
    "# compute settlements count for all the countries. This may take around 5 minutes for 177 countries.\n",
    "\n",
    "t0 = time.time()\n",
    "\n",
    "N_countries = world_gdf.shape[0]\n",
    "i = 0\n",
    "new_df['sett_count'] = 0\n",
    "\n",
    "\n",
    "for country_code in list(new_df.iso_a3.values):\n",
    "    i = i + 1\n",
    "    print(str(i) + '/' + str(N_countries) + ' - ' + country_code)\n",
    "    new_df.loc[new_df.iso_a3 == country_code,'sett_count'] = query_api(agg_count,filter_settlements,country_code)\n",
    "        \n",
    "print((time.time() - t0)/60)"
   ]
  },
  {
   "cell_type": "code",
   "execution_count": null,
   "metadata": {},
   "outputs": [],
   "source": [
    "# compute road length for all the countries. This may take around 30 minutes for 177 countries.\n",
    "\n",
    "\n",
    "t0 = time.time()\n",
    "\n",
    "N_countries = world_gdf.shape[0]\n",
    "i = 0\n",
    "new_df['road_length'] = 0\n",
    "\n",
    "\n",
    "for country_code in list(new_df.iso_a3.values):\n",
    "    i = i + 1\n",
    "    print(str(i) + '/' + str(N_countries) + ' - ' + country_code)\n",
    "    new_df.loc[new_df.iso_a3 == country_code,'road_length'] = query_api(agg_length,filter_major_roads,country_code)\n",
    "        \n",
    "print((time.time() - t0)/60)\n"
   ]
  },
  {
   "cell_type": "code",
   "execution_count": 5,
   "metadata": {},
   "outputs": [],
   "source": [
    "#possible to save statistics per country on a file to avoid re-running the above queries every time\n",
    "#new_df.to_csv('./osm_output/threshold_analysis.csv', index = False)\n",
    "#new_df = pd.read_csv('./osm_output/threshold_analysis.csv')"
   ]
  },
  {
   "cell_type": "code",
   "execution_count": null,
   "metadata": {},
   "outputs": [],
   "source": []
  },
  {
   "cell_type": "markdown",
   "metadata": {},
   "source": [
    "### 5.2) Compute thresholds"
   ]
  },
  {
   "cell_type": "code",
   "execution_count": 6,
   "metadata": {},
   "outputs": [],
   "source": [
    "# compute densities and drop countries with no settlements\n",
    "\n",
    "new_df['road_per_pop'] = new_df['road_length']/new_df['pop_est']*1e3\n",
    "new_df['sett_per_pop'] = new_df['sett_count']/new_df['pop_est']*1e6\n",
    "\n",
    "df = new_df[new_df.sett_count > 0].copy()"
   ]
  },
  {
   "cell_type": "code",
   "execution_count": 7,
   "metadata": {},
   "outputs": [
    {
     "data": {
      "text/html": [
       "<div>\n",
       "<style scoped>\n",
       "    .dataframe tbody tr th:only-of-type {\n",
       "        vertical-align: middle;\n",
       "    }\n",
       "\n",
       "    .dataframe tbody tr th {\n",
       "        vertical-align: top;\n",
       "    }\n",
       "\n",
       "    .dataframe thead th {\n",
       "        text-align: right;\n",
       "    }\n",
       "</style>\n",
       "<table border=\"1\" class=\"dataframe\">\n",
       "  <thead>\n",
       "    <tr style=\"text-align: right;\">\n",
       "      <th></th>\n",
       "      <th>pop_est</th>\n",
       "      <th>country_area</th>\n",
       "      <th>sett_count</th>\n",
       "      <th>road_length</th>\n",
       "    </tr>\n",
       "  </thead>\n",
       "  <tbody>\n",
       "    <tr>\n",
       "      <th>pop_est</th>\n",
       "      <td>1.000000</td>\n",
       "      <td>0.659239</td>\n",
       "      <td>0.795760</td>\n",
       "      <td>0.798376</td>\n",
       "    </tr>\n",
       "    <tr>\n",
       "      <th>country_area</th>\n",
       "      <td>0.659239</td>\n",
       "      <td>1.000000</td>\n",
       "      <td>0.646752</td>\n",
       "      <td>0.751038</td>\n",
       "    </tr>\n",
       "    <tr>\n",
       "      <th>sett_count</th>\n",
       "      <td>0.795760</td>\n",
       "      <td>0.646752</td>\n",
       "      <td>1.000000</td>\n",
       "      <td>0.807804</td>\n",
       "    </tr>\n",
       "    <tr>\n",
       "      <th>road_length</th>\n",
       "      <td>0.798376</td>\n",
       "      <td>0.751038</td>\n",
       "      <td>0.807804</td>\n",
       "      <td>1.000000</td>\n",
       "    </tr>\n",
       "  </tbody>\n",
       "</table>\n",
       "</div>"
      ],
      "text/plain": [
       "               pop_est  country_area  sett_count  road_length\n",
       "pop_est       1.000000      0.659239    0.795760     0.798376\n",
       "country_area  0.659239      1.000000    0.646752     0.751038\n",
       "sett_count    0.795760      0.646752    1.000000     0.807804\n",
       "road_length   0.798376      0.751038    0.807804     1.000000"
      ]
     },
     "execution_count": 7,
     "metadata": {},
     "output_type": "execute_result"
    }
   ],
   "source": [
    "# correlation showing that settlements and road are more related to population than size\n",
    "\n",
    "df[['pop_est','country_area','sett_count','road_length']].corr(method = 'spearman')"
   ]
  },
  {
   "cell_type": "code",
   "execution_count": 8,
   "metadata": {},
   "outputs": [
    {
     "name": "stdout",
     "output_type": "stream",
     "text": [
      "0.30439759079042056\n",
      "0.6533646256776091\n",
      "146.12205125465917\n",
      "295.7190506317715\n"
     ]
    }
   ],
   "source": [
    "\n",
    "print(df.sett_per_pop.quantile(0.05))\n",
    "print(df.sett_per_pop.quantile(0.2))\n",
    "\n",
    "print(df.road_per_pop.quantile(0.05))\n",
    "print(df.road_per_pop.quantile(0.2))"
   ]
  },
  {
   "cell_type": "markdown",
   "metadata": {},
   "source": [
    "#### Settlements per million habitants\n",
    "- 5% : 0.30\n",
    "- 20% : 0.65\n",
    "\n",
    "#### Road km per million habitants\n",
    "- 5% : 146\n",
    "- 20% : 296"
   ]
  },
  {
   "cell_type": "code",
   "execution_count": 9,
   "metadata": {},
   "outputs": [],
   "source": [
    "# set quality thresholds based on percentiles\n",
    "\n",
    "df['set_tag'] = 'good'\n",
    "df.loc[df.sett_per_pop < 0.65, 'set_tag'] = 'medium'\n",
    "df.loc[df.sett_per_pop < 0.3, 'set_tag'] = 'bad'\n",
    "\n",
    "df['road_tag'] = 'good'\n",
    "df.loc[df.road_per_pop < 296, 'road_tag'] = 'medium'\n",
    "df.loc[df.road_per_pop < 146, 'road_tag'] = 'bad'"
   ]
  },
  {
   "cell_type": "code",
   "execution_count": 10,
   "metadata": {},
   "outputs": [
    {
     "data": {
      "text/plain": [
       "Text(0.5, 1.0, 'Settlements vs Population')"
      ]
     },
     "execution_count": 10,
     "metadata": {},
     "output_type": "execute_result"
    },
    {
     "data": {
      "image/png": "[encoded data removed]",
      "text/plain": [
       "<Figure size 432x288 with 1 Axes>"
      ]
     },
     "metadata": {
      "needs_background": "light"
     },
     "output_type": "display_data"
    }
   ],
   "source": [
    "\n",
    "ax = sns.scatterplot(x = df.pop_est, y = df.sett_count, hue = df.set_tag)\n",
    "ax.set_xlim([0,2.5e8])\n",
    "ax.set_ylim([0,200])\n",
    "ax.set_xlabel('Country Population')\n",
    "ax.set_ylabel('Settlements count')\n",
    "ax.set_title('Settlements vs Population')"
   ]
  },
  {
   "cell_type": "code",
   "execution_count": 11,
   "metadata": {},
   "outputs": [
    {
     "data": {
      "text/plain": [
       "Text(0.5, 1.0, 'Roads vs Population')"
      ]
     },
     "execution_count": 11,
     "metadata": {},
     "output_type": "execute_result"
    },
    {
     "data": {
      "image/png": "[encoded data removed]",
      "text/plain": [
       "<Figure size 432x288 with 1 Axes>"
      ]
     },
     "metadata": {
      "needs_background": "light"
     },
     "output_type": "display_data"
    }
   ],
   "source": [
    "\n",
    "ax = sns.scatterplot(x = df.pop_est, y = df.road_length, hue = df.road_tag)\n",
    "ax.set_xlim([0,2.5e8])\n",
    "ax.set_ylim([0,2e8])\n",
    "ax.set_xlabel('Country Population')\n",
    "ax.set_ylabel('Road total length (m)')\n",
    "ax.set_title('Roads vs Population')"
   ]
  },
  {
   "cell_type": "code",
   "execution_count": 12,
   "metadata": {},
   "outputs": [
    {
     "data": {
      "text/html": [
       "<div>\n",
       "<style scoped>\n",
       "    .dataframe tbody tr th:only-of-type {\n",
       "        vertical-align: middle;\n",
       "    }\n",
       "\n",
       "    .dataframe tbody tr th {\n",
       "        vertical-align: top;\n",
       "    }\n",
       "\n",
       "    .dataframe thead th {\n",
       "        text-align: right;\n",
       "    }\n",
       "</style>\n",
       "<table border=\"1\" class=\"dataframe\">\n",
       "  <thead>\n",
       "    <tr style=\"text-align: right;\">\n",
       "      <th></th>\n",
       "      <th>pop_est</th>\n",
       "      <th>continent</th>\n",
       "      <th>name</th>\n",
       "      <th>iso_a3</th>\n",
       "      <th>gdp_md_est</th>\n",
       "      <th>geometry</th>\n",
       "      <th>country_area</th>\n",
       "      <th>road_length</th>\n",
       "      <th>road_per_pop</th>\n",
       "      <th>sett_count</th>\n",
       "      <th>sett_per_pop</th>\n",
       "      <th>set_tag</th>\n",
       "      <th>road_tag</th>\n",
       "    </tr>\n",
       "  </thead>\n",
       "  <tbody>\n",
       "    <tr>\n",
       "      <th>16</th>\n",
       "      <td>10646714</td>\n",
       "      <td>North America</td>\n",
       "      <td>Haiti</td>\n",
       "      <td>HTI</td>\n",
       "      <td>19340.0</td>\n",
       "      <td>POLYGON ((-71.71236141629296 19.71445587816736...</td>\n",
       "      <td>2.447114</td>\n",
       "      <td>913119.60</td>\n",
       "      <td>85.765392</td>\n",
       "      <td>20</td>\n",
       "      <td>1.878514</td>\n",
       "      <td>good</td>\n",
       "      <td>bad</td>\n",
       "    </tr>\n",
       "    <tr>\n",
       "      <th>17</th>\n",
       "      <td>10734247</td>\n",
       "      <td>North America</td>\n",
       "      <td>Dominican Rep.</td>\n",
       "      <td>DOM</td>\n",
       "      <td>161900.0</td>\n",
       "      <td>POLYGON ((-71.70830481635805 18.04499705654609...</td>\n",
       "      <td>4.129206</td>\n",
       "      <td>3177262.38</td>\n",
       "      <td>295.993038</td>\n",
       "      <td>25</td>\n",
       "      <td>2.328994</td>\n",
       "      <td>good</td>\n",
       "      <td>medium</td>\n",
       "    </tr>\n",
       "    <tr>\n",
       "      <th>93</th>\n",
       "      <td>55123814</td>\n",
       "      <td>Asia</td>\n",
       "      <td>Myanmar</td>\n",
       "      <td>MMR</td>\n",
       "      <td>311100.0</td>\n",
       "      <td>POLYGON ((100.1159875834178 20.41784963630819,...</td>\n",
       "      <td>59.157493</td>\n",
       "      <td>15326021.64</td>\n",
       "      <td>278.029050</td>\n",
       "      <td>40</td>\n",
       "      <td>0.725639</td>\n",
       "      <td>good</td>\n",
       "      <td>medium</td>\n",
       "    </tr>\n",
       "    <tr>\n",
       "      <th>99</th>\n",
       "      <td>157826578</td>\n",
       "      <td>Asia</td>\n",
       "      <td>Bangladesh</td>\n",
       "      <td>BGD</td>\n",
       "      <td>628400.0</td>\n",
       "      <td>POLYGON ((92.67272098182556 22.04123891854125,...</td>\n",
       "      <td>11.857175</td>\n",
       "      <td>7789558.06</td>\n",
       "      <td>49.355173</td>\n",
       "      <td>24</td>\n",
       "      <td>0.152066</td>\n",
       "      <td>bad</td>\n",
       "      <td>bad</td>\n",
       "    </tr>\n",
       "    <tr>\n",
       "      <th>176</th>\n",
       "      <td>13026129</td>\n",
       "      <td>Africa</td>\n",
       "      <td>S. Sudan</td>\n",
       "      <td>SSD</td>\n",
       "      <td>20880.0</td>\n",
       "      <td>POLYGON ((30.83385242171543 3.509171604222463,...</td>\n",
       "      <td>51.196106</td>\n",
       "      <td>5482992.84</td>\n",
       "      <td>420.922658</td>\n",
       "      <td>17</td>\n",
       "      <td>1.305069</td>\n",
       "      <td>good</td>\n",
       "      <td>good</td>\n",
       "    </tr>\n",
       "  </tbody>\n",
       "</table>\n",
       "</div>"
      ],
      "text/plain": [
       "       pop_est      continent            name iso_a3  gdp_md_est  \\\n",
       "16    10646714  North America           Haiti    HTI     19340.0   \n",
       "17    10734247  North America  Dominican Rep.    DOM    161900.0   \n",
       "93    55123814           Asia         Myanmar    MMR    311100.0   \n",
       "99   157826578           Asia      Bangladesh    BGD    628400.0   \n",
       "176   13026129         Africa        S. Sudan    SSD     20880.0   \n",
       "\n",
       "                                              geometry  country_area  \\\n",
       "16   POLYGON ((-71.71236141629296 19.71445587816736...      2.447114   \n",
       "17   POLYGON ((-71.70830481635805 18.04499705654609...      4.129206   \n",
       "93   POLYGON ((100.1159875834178 20.41784963630819,...     59.157493   \n",
       "99   POLYGON ((92.67272098182556 22.04123891854125,...     11.857175   \n",
       "176  POLYGON ((30.83385242171543 3.509171604222463,...     51.196106   \n",
       "\n",
       "     road_length  road_per_pop  sett_count  sett_per_pop set_tag road_tag  \n",
       "16     913119.60     85.765392          20      1.878514    good      bad  \n",
       "17    3177262.38    295.993038          25      2.328994    good   medium  \n",
       "93   15326021.64    278.029050          40      0.725639    good   medium  \n",
       "99    7789558.06     49.355173          24      0.152066     bad      bad  \n",
       "176   5482992.84    420.922658          17      1.305069    good     good  "
      ]
     },
     "execution_count": 12,
     "metadata": {},
     "output_type": "execute_result"
    }
   ],
   "source": [
    "# the quality for our 5 countries\n",
    "\n",
    "df[df.iso_a3.isin(['BGD','SSD','MMR','DOM','HTI'])] \n"
   ]
  },
  {
   "cell_type": "markdown",
   "metadata": {},
   "source": [
    "## 6) Annexe"
   ]
  },
  {
   "cell_type": "code",
   "execution_count": null,
   "metadata": {},
   "outputs": [],
   "source": [
    "#with open('./my_file.geojson', 'w', encoding='utf-8') as f:\n",
    "#    json.dump(geojson_file, f, ensure_ascii=False)"
   ]
  },
  {
   "cell_type": "code",
   "execution_count": null,
   "metadata": {},
   "outputs": [],
   "source": [
    "country_code = 'BGD'\n",
    "\n",
    "world_gdf = gpd.read_file(gpd.datasets.get_path('naturalearth_lowres'))\n",
    "country_gdf = world_gdf[world_gdf.iso_a3 == country_code]\n",
    "geojson_file =  json.loads(country_gdf.to_json())\n",
    "#geojson_file = \"Region 1:8.65821,49.41129,8.65821,49.41825,8.70053,49.41825,8.70053,49.41129,8.65821,49.41129|Region 2:8.67817,49.42147,8.67817,49.4342,8.70053,49.4342,8.70053,49.42147,8.67817,49.42147\"\n",
    "#country_poly = str(country_gdf.geometry.values[0]).replace('POLYGON ((','').replace('))','').replace(', ',',').replace(' ',',')\n",
    "#geojson_file = \"8.65821,49.41129,8.65821,49.41825,8.70053,49.41825,8.70053,49.41129,8.65821,49.41129|8.67817,49.42147,8.67817,49.4342,8.70053,49.4342,8.70053,49.42147,8.67817,49.42147\"\n",
    "\n",
    "\n",
    "#data = {\"bpolys\": geojson_file, \"format\": \"json\", \"time\": query_time, \"filter\": query_filter}\n",
    "#response = requests.post(URL, data=data)\n"
   ]
  },
  {
   "cell_type": "code",
   "execution_count": null,
   "metadata": {},
   "outputs": [],
   "source": []
  }
 ],
 "metadata": {
  "kernelspec": {
   "display_name": "Python 3",
   "language": "python",
   "name": "python3"
  },
  "language_info": {
   "codemirror_mode": {
    "name": "ipython",
    "version": 3
   },
   "file_extension": ".py",
   "mimetype": "text/x-python",
   "name": "python",
   "nbconvert_exporter": "python",
   "pygments_lexer": "ipython3",
   "version": "3.8.5"
  }
 },
 "nbformat": 4,
 "nbformat_minor": 4
}
